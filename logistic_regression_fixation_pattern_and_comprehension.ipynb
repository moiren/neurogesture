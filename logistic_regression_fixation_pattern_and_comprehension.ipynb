{
  "nbformat": 4,
  "nbformat_minor": 0,
  "metadata": {
    "colab": {
      "name": "logistic regression_fixation pattern and comprehension.ipynb",
      "version": "0.3.2",
      "provenance": [],
      "collapsed_sections": [],
      "include_colab_link": true
    },
    "kernelspec": {
      "name": "python3",
      "display_name": "Python 3"
    }
  },
  "cells": [
    {
      "cell_type": "markdown",
      "metadata": {
        "id": "view-in-github",
        "colab_type": "text"
      },
      "source": [
        "<a href=\"https://colab.research.google.com/github/moiren/neurogesture/blob/master/logistic_regression_fixation_pattern_and_comprehension.ipynb\" target=\"_parent\"><img src=\"https://colab.research.google.com/assets/colab-badge.svg\" alt=\"Open In Colab\"/></a>"
      ]
    },
    {
      "cell_type": "markdown",
      "metadata": {
        "id": "NQ0wOPhdWFTB",
        "colab_type": "text"
      },
      "source": [
        "1. For binary Y, consider which model to use: https://stats.idre.ucla.edu/r/dae/logit-regression/\n",
        "\n",
        "2. Logistic Regression python packages: Scikit Learn (applies certain regularization) vs Statsmodels\n",
        "\n",
        "3. what is the default reference group (denominator) for Y in the LR model?\n",
        "P/1-P\n",
        "\n",
        "4. odds ratio in the resulted model: https://stats.idre.ucla.edu/other/mult-pkg/faq/general/faq-how-do-i-interpret-odds-ratios-in-logistic-regression/\n",
        "\n",
        "5. LR tutorial: https://www.juanshishido.com/logisticcoefficients.html\n",
        "\n",
        "5.1 LR with optimization: https://towardsdatascience.com/building-a-logistic-regression-in-python-step-by-step-becd4d56c9c8\n",
        "\n",
        "6. nested data structure in python?"
      ]
    },
    {
      "cell_type": "code",
      "metadata": {
        "id": "WoE0ndWeE21R",
        "colab_type": "code",
        "outputId": "c3ad75db-d9fb-4355-82ea-50fa06de34b2",
        "colab": {
          "base_uri": "https://localhost:8080/",
          "height": 122
        }
      },
      "source": [
        "from google.colab import drive\n",
        "drive.mount('/gdrive')"
      ],
      "execution_count": 1,
      "outputs": [
        {
          "output_type": "stream",
          "text": [
            "Go to this URL in a browser: https://accounts.google.com/o/oauth2/auth?client_id=947318989803-6bn6qk8qdgf4n4g3pfee6491hc0brc4i.apps.googleusercontent.com&redirect_uri=urn%3Aietf%3Awg%3Aoauth%3A2.0%3Aoob&scope=email%20https%3A%2F%2Fwww.googleapis.com%2Fauth%2Fdocs.test%20https%3A%2F%2Fwww.googleapis.com%2Fauth%2Fdrive%20https%3A%2F%2Fwww.googleapis.com%2Fauth%2Fdrive.photos.readonly%20https%3A%2F%2Fwww.googleapis.com%2Fauth%2Fpeopleapi.readonly&response_type=code\n",
            "\n",
            "Enter your authorization code:\n",
            "··········\n",
            "Mounted at /gdrive\n"
          ],
          "name": "stdout"
        }
      ]
    },
    {
      "cell_type": "code",
      "metadata": {
        "id": "WojtJ0R6FVfi",
        "colab_type": "code",
        "colab": {}
      },
      "source": [
        "import os\n",
        "from scipy.io import loadmat\n",
        "\n",
        "import numpy as np\n",
        "import pandas as pd\n",
        "\n",
        "import statsmodels.api as sm"
      ],
      "execution_count": 0,
      "outputs": []
    },
    {
      "cell_type": "code",
      "metadata": {
        "id": "napPD5mPFZwL",
        "colab_type": "code",
        "colab": {}
      },
      "source": [
        "#read fixation variables\n",
        "## from new data frame for perspective single condition, aggregated by slide number (as column)\n",
        "dir = \"/gdrive/My Drive/Ted_Gesture_Engagement_Project/lecture slides, gesture and questions_2017-2018/run eye tracking study_paul2018/results/aggregated/timestamps/NewDataFrame.mat\"\n",
        "per_single = loadmat(dir)\n",
        "\n",
        "#read comprehension \n",
        "dir_comp = \"/gdrive/My Drive/Ted_Gesture_Engagement_Project/lecture slides, gesture and questions_2017-2018/run eye tracking study_paul2018/results/comprehension_by condition by topic/perspective_single.csv\"\n",
        "df=pd.read_csv(dir_comp)\n",
        "Q1 = df.Q1\n",
        "Q2 = df.Q2\n",
        "Q3 = df.Q3\n",
        "Q4 = df.Q4\n",
        "Q5 = df.Q5\n",
        "Q6 = df.Q6\n",
        "\n",
        "### check question's reinforcement channels: \n"
      ],
      "execution_count": 0,
      "outputs": []
    },
    {
      "cell_type": "code",
      "metadata": {
        "id": "ba5lWo_LwYMi",
        "colab_type": "code",
        "colab": {}
      },
      "source": [
        "# check average correctness for each questions"
      ],
      "execution_count": 0,
      "outputs": []
    },
    {
      "cell_type": "code",
      "metadata": {
        "id": "19jp7t27Ylrl",
        "colab_type": "code",
        "colab": {}
      },
      "source": [
        "# slide number & question number\n",
        "## s1\ts2\ts3(q1)\ts4(q2,q3)\ts5(q4)\ts6(q5)\ts7(q6)\n",
        "#q1-column2, q2,q3-column3, q4-column4, q5-column5, q6-column6\n",
        "##xMqN = per_single['data'][0][type of fixation-M][1][:,the Nth column of question/slide]\n",
        "\n",
        "x1 = per_single['data'][0][0][1][:,5] #duration_slidetext\n",
        "x2 = per_single['data'][0][1][1][:,5] #duration_slideimage\n",
        "x3 = per_single['data'][0][2][1][:,5] #count_slidetext\n",
        "x4 = per_single['data'][0][3][1][:,5] #count_slideimage\n",
        "# x5 = per_single['data'][0][4][1][:,2] #count_others\n",
        "x5 = per_single['data'][0][5][1][:,5] #text_to_image\n",
        "x6 = per_single['data'][0][6][1][:,5] #image_to_text"
      ],
      "execution_count": 0,
      "outputs": []
    },
    {
      "cell_type": "code",
      "metadata": {
        "colab_type": "code",
        "id": "8M4RxmdItmTH",
        "colab": {}
      },
      "source": [
        "####q4\n",
        "x1q4 = per_single['data'][0][0][1][:,4] #duration_slidetext\n",
        "x2q4 = per_single['data'][0][1][1][:,4] #duration_slideimage\n",
        "x3q4 = per_single['data'][0][2][1][:,4] #count_slidetext\n",
        "x4q4 = per_single['data'][0][3][1][:,4] #count_slideimage\n",
        "x5q4 = per_single['data'][0][5][1][:,4] #text_to_image\n",
        "x6q4 = per_single['data'][0][6][1][:,4] #image_to_text"
      ],
      "execution_count": 0,
      "outputs": []
    },
    {
      "cell_type": "code",
      "metadata": {
        "id": "6OwgP7-DsDc7",
        "colab_type": "code",
        "colab": {}
      },
      "source": [
        "#per_single['data'][0][0][1]"
      ],
      "execution_count": 0,
      "outputs": []
    },
    {
      "cell_type": "code",
      "metadata": {
        "id": "-MaDDmTnUwwj",
        "colab_type": "code",
        "colab": {}
      },
      "source": [
        "data_q4 = np.vstack((x1q4,x2q4,x3q4,x4q4,x5q4,x6q4))"
      ],
      "execution_count": 0,
      "outputs": []
    },
    {
      "cell_type": "code",
      "metadata": {
        "id": "xRxmMwBKXGv7",
        "colab_type": "code",
        "colab": {}
      },
      "source": [
        "# array to dataframe\n",
        "X_q4 = pd.DataFrame({'duration_slidetext':data_q4[0,:],'duration_slideimage':data_q4[1,:],'count_slidetext':data_q4[2,:],'count_slideimage':data_q4[3,:],'text_to_image':data_q4[4,:],'image_to_text':data_q4[5,:]})\n",
        "\n",
        "#print(dataset)"
      ],
      "execution_count": 0,
      "outputs": []
    },
    {
      "cell_type": "code",
      "metadata": {
        "id": "wMzsa2Vto_gT",
        "colab_type": "code",
        "colab": {}
      },
      "source": [
        "X_q4['intercept'] = 1.0 #manually add the intercept, so we don't need to use sm.add_constant every time"
      ],
      "execution_count": 0,
      "outputs": []
    },
    {
      "cell_type": "code",
      "metadata": {
        "id": "lxcpxgJIkyUn",
        "colab_type": "code",
        "colab": {}
      },
      "source": [
        "logit_Q4=sm.Logit(Q1,X_q4)"
      ],
      "execution_count": 0,
      "outputs": []
    },
    {
      "cell_type": "code",
      "metadata": {
        "id": "k-RToibHhLVT",
        "colab_type": "code",
        "outputId": "671be04d-90be-47e2-dcb4-f97981c99c5c",
        "colab": {
          "base_uri": "https://localhost:8080/",
          "height": 442
        }
      },
      "source": [
        "result_Q4=logit_Q4.fit()\n",
        "print(result_Q4.summary2()"
      ],
      "execution_count": 0,
      "outputs": [
        {
          "output_type": "stream",
          "text": [
            "Optimization terminated successfully.\n",
            "         Current function value: 0.401991\n",
            "         Iterations 8\n",
            "                           Results: Logit\n",
            "====================================================================\n",
            "Model:                 Logit             Pseudo R-squared:  0.419   \n",
            "Dependent Variable:    Q1                AIC:               29.2756 \n",
            "Date:                  2019-05-13 05:32  BIC:               35.8867 \n",
            "No. Observations:      19                Log-Likelihood:    -7.6378 \n",
            "Df Model:              6                 LL-Null:           -13.143 \n",
            "Df Residuals:          12                LLR p-value:       0.088028\n",
            "Converged:             1.0000            Scale:             1.0000  \n",
            "No. Iterations:        8.0000                                       \n",
            "--------------------------------------------------------------------\n",
            "                     Coef.  Std.Err.    z    P>|z|   [0.025   0.975]\n",
            "--------------------------------------------------------------------\n",
            "duration_slidetext   1.9747   2.0593  0.9589 0.3376  -2.0615  6.0109\n",
            "duration_slideimage -0.5790   4.3017 -0.1346 0.8929  -9.0103  7.8522\n",
            "count_slidetext      1.4556   1.3620  1.0687 0.2852  -1.2139  4.1250\n",
            "count_slideimage     3.5967   3.9367  0.9136 0.3609  -4.1191 11.3126\n",
            "text_to_image       -2.9725   7.2131 -0.4121 0.6803 -17.1099 11.1649\n",
            "image_to_text        4.1479   7.5742  0.5476 0.5839 -10.6972 18.9930\n",
            "intercept           -0.4628   0.8222 -0.5628 0.5735  -2.0743  1.1487\n",
            "====================================================================\n",
            "\n"
          ],
          "name": "stdout"
        }
      ]
    },
    {
      "cell_type": "code",
      "metadata": {
        "id": "YOTf-tkqwEXb",
        "colab_type": "code",
        "colab": {}
      },
      "source": [
        "# convert log odds to ratio\n",
        "np.exp(result_Q5.params))"
      ],
      "execution_count": 0,
      "outputs": []
    },
    {
      "cell_type": "code",
      "metadata": {
        "id": "4ebVrB2puGRx",
        "colab_type": "code",
        "outputId": "7e24dba1-8ca4-45c4-d4d1-13b625f38945",
        "colab": {
          "base_uri": "https://localhost:8080/",
          "height": 442
        }
      },
      "source": [
        "##\n",
        "\n",
        "\n",
        "# dataset['intercept'] = 1.0\n",
        "# logit_Q5=sm.Logit(Q5,dataset)\n",
        "# result_Q5=logit_Q5.fit()\n",
        "# print(result_Q5.summary2())"
      ],
      "execution_count": 0,
      "outputs": [
        {
          "output_type": "stream",
          "text": [
            "Optimization terminated successfully.\n",
            "         Current function value: 0.432555\n",
            "         Iterations 7\n",
            "                          Results: Logit\n",
            "==================================================================\n",
            "Model:                Logit             Pseudo R-squared:  0.306  \n",
            "Dependent Variable:   Q5                AIC:               30.4371\n",
            "Date:                 2019-05-13 05:45  BIC:               37.0481\n",
            "No. Observations:     19                Log-Likelihood:    -8.2185\n",
            "Df Model:             6                 LL-Null:           -11.849\n",
            "Df Residuals:         12                LLR p-value:       0.29731\n",
            "Converged:            1.0000            Scale:             1.0000 \n",
            "No. Iterations:       7.0000                                      \n",
            "------------------------------------------------------------------\n",
            "                     Coef.  Std.Err.    z    P>|z|   [0.025 0.975]\n",
            "------------------------------------------------------------------\n",
            "duration_slidetext  -0.2539   1.2398 -0.2048 0.8377 -2.6839 2.1761\n",
            "duration_slideimage -0.4045   1.4881 -0.2718 0.7858 -3.3211 2.5122\n",
            "count_slidetext      0.2743   1.3052  0.2101 0.8336 -2.2838 2.8323\n",
            "count_slideimage    -0.6407   1.7490 -0.3663 0.7141 -4.0687 2.7873\n",
            "text_to_image        3.5961   2.7353  1.3147 0.1886 -1.7650 8.9572\n",
            "image_to_text       -4.0520   2.4612 -1.6464 0.0997 -8.8758 0.7718\n",
            "intercept            1.1682   0.7050  1.6570 0.0975 -0.2136 2.5500\n",
            "==================================================================\n",
            "\n"
          ],
          "name": "stdout"
        }
      ]
    },
    {
      "cell_type": "code",
      "metadata": {
        "id": "Eyhgdg6XoyB0",
        "colab_type": "code",
        "colab": {}
      },
      "source": [
        ""
      ],
      "execution_count": 0,
      "outputs": []
    }
  ]
}